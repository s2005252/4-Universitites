{
 "cells": [
  {
   "cell_type": "code",
   "execution_count": 1,
   "metadata": {},
   "outputs": [],
   "source": [
    "import os\n",
    "import numpy as np \n",
    "import pandas as pd\n",
    "import warnings\n",
    "warnings.filterwarnings(\"ignore\")\n",
    "from sklearn.decomposition import PCA\n",
    "import matplotlib.pyplot as plt\n",
    "import seaborn as sns\n",
    "from sklearn.preprocessing import StandardScaler"
   ]
  },
  {
   "cell_type": "code",
   "execution_count": 5,
   "metadata": {},
   "outputs": [],
   "source": [
    "train_data_path = os.path.join(os.getcwd(), 'Data','except-cornell.csv')\n",
    "train = pd.read_csv(train_data_path, encoding='Latin-1')\n",
    "test_data_path = os.path.join(os.getcwd(), 'Data','cornell.csv')\n",
    "test = pd.read_csv(test_data_path, encoding='Latin-1')"
   ]
  },
  {
   "cell_type": "code",
   "execution_count": 6,
   "metadata": {},
   "outputs": [],
   "source": [
    " X_train=train.drop(['label'], axis=1) #features\n",
    "y_train=train['label'] #targets\n",
    "X_test=test.drop(['label'], axis=1) #features\n",
    "y_test=test['label'] #targets"
   ]
  },
  {
   "cell_type": "code",
   "execution_count": 7,
   "metadata": {},
   "outputs": [],
   "source": [
    "from sklearn.feature_selection import mutual_info_classif\n",
    "mi = mutual_info_classif(X_train, y_train,copy =False)\n",
    "\n",
    "X_train = pd.DataFrame(X_train)\n",
    "X_test = pd.DataFrame(X_test)\n",
    "\n",
    "mi= pd.Series(mi)\n",
    "mi.index = X_train.columns\n",
    "mi.sort_values(ascending=False, inplace=True)"
   ]
  },
  {
   "cell_type": "code",
   "execution_count": 8,
   "metadata": {},
   "outputs": [
    {
     "name": "stdout",
     "output_type": "stream",
     "text": [
      "3273\n"
     ]
    }
   ],
   "source": [
    "from sklearn.feature_selection import SelectPercentile, chi2\n",
    "selector = SelectPercentile(mutual_info_classif, percentile=10).fit(X_train, y_train)\n",
    "print(len(X_train.columns[selector.get_support()]))\n",
    "\n",
    "X_train_mi = selector.transform(X_train)\n",
    "X_test_mi = selector.transform(X_test)"
   ]
  },
  {
   "cell_type": "code",
   "execution_count": 9,
   "metadata": {},
   "outputs": [],
   "source": [
    "from sklearn.feature_extraction.text import TfidfTransformer\n",
    "tfidf_vect = TfidfTransformer()\n",
    "train_tfidf = tfidf_vect.fit_transform(X_train_mi)\n",
    "test_tfidf = tfidf_vect.fit_transform(X_test_mi)\n",
    "\n",
    "X_train_tfidf=train_tfidf.toarray()\n",
    "X_test_tfidf=test_tfidf.toarray()"
   ]
  },
  {
   "cell_type": "code",
   "execution_count": 14,
   "metadata": {},
   "outputs": [
    {
     "name": "stdout",
     "output_type": "stream",
     "text": [
      "Average precision score mean: 0.40960501405726\n",
      "Average precision score Standard Deviation: 0.004590557720522573\n",
      "Average recall score mean: 0.6415846514430049\n",
      "Average recall score Standard Deviation: 0.009173293001842038\n",
      "f1_score mean: 0.7673010380622838\n",
      "f1_score Standard Deviation: 0.0029827221547833512\n",
      "accuracy mean: 0.7673010380622838\n",
      "accuracy Standard Deviation: 0.0029827221547833512\n"
     ]
    }
   ],
   "source": [
    "from sklearn.model_selection import StratifiedKFold\n",
    "from sklearn import metrics\n",
    "from sklearn.model_selection import cross_val_predict\n",
    "from sklearn.metrics import accuracy_score\n",
    "from sklearn.linear_model import LogisticRegression\n",
    "from sklearn.metrics import precision_score, recall_score, f1_score\n",
    "skf = StratifiedKFold(n_splits=4,random_state=0,shuffle=True)\n",
    "\n",
    "list_f1=[]\n",
    "list_accuracy=[]\n",
    "list_Precision=[]\n",
    "list_Recall=[]\n",
    "\n",
    "for train_la, valid_la in (skf.split(X_train_tfidf,y_train)):\n",
    "    X_train_k, X_validation = X_train_tfidf[train_la], X_train_tfidf[valid_la]\n",
    "    y_train_k, y_validation = y_train[train_la], y_train[valid_la]\n",
    "    lr=LogisticRegression(random_state=0, solver='lbfgs', multi_class='multinomial')\n",
    "    lr.fit(X_train_k, y_train_k)  \n",
    "    a=lr.predict(X_test_tfidf)\n",
    "    \n",
    "    f1_score=metrics.f1_score(y_test, a, average='micro')\n",
    "    accuracy=accuracy_score(y_test, a)\n",
    "    p = precision_score(y_test, a, average='micro')\n",
    "    R = recall_score(y_test, a, average='micro')\n",
    "        \n",
    "    list_f1.append(f1_score)\n",
    "    list_accuracy.append(accuracy)\n",
    "    list_Precision.append(p)\n",
    "    list_Recall.append(R)\n",
    "    \n",
    "print('Average precision score mean:', np.mean(list_Precision))\n",
    "print('Average precision score Standard Deviation:', np.std(list_Precision))\n",
    "print('Average recall score mean:', np.mean(list_Recall))\n",
    "print('Average recall score Standard Deviation:', np.std(list_Recall)) \n",
    "print('f1_score mean:', np.mean(list_f1))\n",
    "print('f1_score Standard Deviation:', np.std(list_f1))\n",
    "print('accuracy mean:', np.mean(list_accuracy))\n",
    "print('accuracy Standard Deviation:', np.std(list_accuracy))\n"
   ]
  },
  {
   "cell_type": "code",
   "execution_count": null,
   "metadata": {},
   "outputs": [],
   "source": []
  }
 ],
 "metadata": {
  "kernelspec": {
   "display_name": "Python 3",
   "language": "python",
   "name": "python3"
  },
  "language_info": {
   "codemirror_mode": {
    "name": "ipython",
    "version": 3
   },
   "file_extension": ".py",
   "mimetype": "text/x-python",
   "name": "python",
   "nbconvert_exporter": "python",
   "pygments_lexer": "ipython3",
   "version": "3.6.10"
  }
 },
 "nbformat": 4,
 "nbformat_minor": 2
}
